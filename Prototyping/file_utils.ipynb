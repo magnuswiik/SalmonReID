{
 "cells": [
  {
   "cell_type": "markdown",
   "metadata": {},
   "source": [
    "# Extract every 5th image from sequence of images"
   ]
  },
  {
   "cell_type": "code",
   "execution_count": 13,
   "metadata": {},
   "outputs": [],
   "source": [
    "import os\n",
    "import shutil\n",
    "\n",
    "# This code extracts every 5th image frame from a video, so that the images for annotation has more variation.\n",
    "\n",
    "from_path = \"/Users/magnuswiik/prosjektoppgave_data/Masteroppgave_data/Videoer/GP010022/\"\n",
    "to_path = \"/Users/magnuswiik/prosjektoppgave_data/Masteroppgave_data/Videoer/Annoteringsklar_GP010022/\"\n",
    "\n",
    "imgs = sorted(file for file in os.listdir(from_path) if file.endswith('.jpg'))\n",
    "\n",
    "every_5th_img = imgs[::5]\n",
    "    \n",
    "for img in every_5th_img:\n",
    "    shutil.copy(from_path + img, to_path)"
   ]
  },
  {
   "cell_type": "markdown",
   "metadata": {},
   "source": [
    "# Extract subset of data from Labelme annotations"
   ]
  },
  {
   "cell_type": "code",
   "execution_count": 14,
   "metadata": {},
   "outputs": [],
   "source": [
    "import os\n",
    "import shutil\n",
    "\n",
    "# This code extracts only the annotated image frames from an image folder and puts these images and annotation files in separate folders.\n",
    "\n",
    "from_path = \"/Users/magnuswiik/prosjektoppgave_data/Masteroppgave_data/Videoer/Annoteringsklar_GP010022/\"\n",
    "to_path = \"/Users/magnuswiik/prosjektoppgave_data/Masteroppgave_data/Videoer/Annotert_GP010022/\"\n",
    "\n",
    "annots = sorted(file for file in os.listdir(from_path) if file.endswith('.json'))\n",
    "imgs = sorted(file for file in os.listdir(from_path) if file.endswith('.jpg') and file[:-4] + '.json' in annots)\n",
    "\n",
    "for annot in annots:\n",
    "    shutil.copy(from_path + annot, to_path)\n",
    "    \n",
    "for img in imgs:\n",
    "    shutil.copy(from_path + img, to_path)"
   ]
  },
  {
   "cell_type": "markdown",
   "metadata": {},
   "source": [
    "# Change names on all files in a folder"
   ]
  },
  {
   "cell_type": "code",
   "execution_count": 15,
   "metadata": {},
   "outputs": [],
   "source": [
    "import os\n",
    "\n",
    "# This code adds the video identificator name to each file name in a folder.\n",
    "\n",
    "path = \"/Users/magnuswiik/prosjektoppgave_data/Masteroppgave_data/Videoer/Annotert_GP010022/\"\n",
    "\n",
    "annots = sorted(file for file in os.listdir(path) if file.endswith('.json'))\n",
    "imgs = sorted(file for file in os.listdir(path) if file.endswith('.jpg') and file[:-4] + '.json' in annots)\n",
    "\n",
    "for index, file in enumerate(annots):\n",
    "    os.rename(os.path.join(path, file), os.path.join(path, \"GP010022_\" + file))\n",
    "\n",
    "for index, file in enumerate(imgs):\n",
    "    os.rename(os.path.join(path, file), os.path.join(path, \"GP010022_\" + file))"
   ]
  },
  {
   "cell_type": "markdown",
   "metadata": {},
   "source": [
    "# Move Images to Images folder and Annotations to Boxes folder"
   ]
  },
  {
   "cell_type": "code",
   "execution_count": 21,
   "metadata": {},
   "outputs": [],
   "source": [
    "import os\n",
    "import shutil\n",
    "\n",
    "# This code moves annotated images into a folder where it is ready for traning a Deep learning model.\n",
    "\n",
    "from_path = \"/Users/magnuswiik/prosjektoppgave_data/Masteroppgave_data/Videoer/Annotert_GP010022/\"\n",
    "to_path = \"/Users/magnuswiik/prosjektoppgave_data/Masteroppgave_data/Helfisk_Deteksjonssett/\"\n",
    "\n",
    "annots = sorted(file for file in os.listdir(from_path) if file.endswith('.json'))\n",
    "imgs = sorted(file for file in os.listdir(from_path) if file.endswith('.jpg') and file[:-4] + '.json' in annots)\n",
    "\n",
    "\n",
    "for annot in annots:\n",
    "    shutil.copy(from_path + annot, to_path + \"Boxes/\")\n",
    "    \n",
    "for img in imgs:\n",
    "    shutil.copy(from_path + img, to_path + \"Images/\")"
   ]
  },
  {
   "cell_type": "markdown",
   "metadata": {},
   "source": [
    "# Check if all annotation files contains shapes"
   ]
  },
  {
   "cell_type": "code",
   "execution_count": 3,
   "metadata": {},
   "outputs": [],
   "source": [
    "import os, json\n",
    "\n",
    "# This code checks if all annotations contain shapes. When using LabelMe it may happen that when you erase annotations, the annotated files are not removed\n",
    "# but only the shapes are removed. This will create an error when training your model, since the model cannot learn anything from an empty annotation file.\n",
    "\n",
    "data_path = \"/Users/magnuswiik/prosjektoppgave_data/Masteroppgave_data/Laks_kroppsdeler_Deteksjonssett/\"\n",
    "\n",
    "items = os.listdir(data_path)\n",
    "\n",
    "folders = [item for item in items if os.path.isdir(os.path.join(data_path, item)) and item != 'old']\n",
    "\n",
    "for folder in folders:\n",
    "    \n",
    "    folder_path = os.path.join(data_path, folder)\n",
    "    \n",
    "    annots = sorted(file for file in os.listdir(folder_path) if file.endswith('.json'))\n",
    "    \n",
    "    for i in range(len(annots)):\n",
    "        \n",
    "        annot_path = os.path.join(folder_path, annots[i])\n",
    "\n",
    "        with open(annot_path, 'r') as file:\n",
    "            content = json.load(file)\n",
    "            shapes = content['shapes']\n",
    "            sh = len(shapes)\n",
    "            if len(shapes) == 0:\n",
    "                print(annots[i] + \" is empty...\")\n",
    "                '''img_path = annot_path[:-4] + \"jpg\"\n",
    "                os.remove(annot_path)\n",
    "                os.remove(img_path)'''"
   ]
  },
  {
   "cell_type": "markdown",
   "metadata": {},
   "source": [
    "# Crop salmon images using Labelme annotation files"
   ]
  },
  {
   "cell_type": "code",
   "execution_count": 22,
   "metadata": {},
   "outputs": [],
   "source": [
    "import os, json\n",
    "import cv2\n",
    "\n",
    "# This code crops the annotated salmon out of the image frame.\n",
    "\n",
    "from_path = \"/Users/magnuswiik/prosjektoppgave_data/Masteroppgave_data/Helfisk_Deteksjonssett/\"\n",
    "to_path = \"/Users/magnuswiik/prosjektoppgave_data/Masteroppgave_data/Helfisk_Landmark_Deteksjonssett/\"\n",
    "\n",
    "from_img = \"GP020101_00012069.jpg\"\n",
    "from_json = \"GP020101_00012069.json\"\n",
    "\n",
    "annots = sorted(file for file in os.listdir(from_path + \"Boxes/\") if file.endswith('.json'))\n",
    "imgs = sorted(file for file in os.listdir(from_path + \"Images/\") if file.endswith('.jpg'))\n",
    "\n",
    "for i in range(len(imgs)):\n",
    "\n",
    "    with open(from_path + \"Boxes/\" + annots[i], 'r') as file:\n",
    "        img = cv2.imread(from_path + \"Images/\" + imgs[i], cv2.IMREAD_COLOR)\n",
    "        content = json.load(file)\n",
    "        shapes = content['shapes']\n",
    "        \n",
    "        for shape in shapes:\n",
    "            box = shape['points']\n",
    "            x1 = int(box[0][0])\n",
    "            y1 = int(box[0][1])\n",
    "            x2 = int(box[1][0])\n",
    "            y2 = int(box[1][1])\n",
    "            id = shape['group_id']\n",
    "            cropped_image = img[y1:y2, x1:x2, :]\n",
    "            \n",
    "            if not os.path.isdir(to_path + \"fish\" + str(id)):\n",
    "                os.mkdir(to_path + \"fish\" + str(id))\n",
    "                \n",
    "            filename = to_path + 'fish' + str(id) + '/fish' + str(id) + \"_\"  + imgs[i]\n",
    "            cv2.imwrite(filename, cropped_image)\n",
    "            \n",
    "            \n",
    "    "
   ]
  },
  {
   "cell_type": "markdown",
   "metadata": {},
   "source": [
    "# Crop bodypart images using Labelme annotations"
   ]
  },
  {
   "cell_type": "code",
   "execution_count": 7,
   "metadata": {},
   "outputs": [],
   "source": [
    "import os, json\n",
    "import cv2\n",
    "\n",
    "# This code crops annotated body parts out of salmon images using LabelMe annotations.\n",
    "\n",
    "from_path = \"/Users/magnuswiik/prosjektoppgave_data/Masteroppgave_data/Laks_kroppsdeler_Deteksjonssett/\"\n",
    "to_path = \"/Users/magnuswiik/prosjektoppgave_data/Masteroppgave_data/Laks_kroppsdeler_Identifikasjonssett/\"\n",
    "\n",
    "annots = []\n",
    "imgs = []\n",
    "\n",
    "for folder in os.listdir(from_path):\n",
    "    if (not folder.startswith('.')) and os.path.isdir(os.path.join(from_path, folder)):\n",
    "        for file in sorted(os.listdir(os.path.join(from_path, folder))):\n",
    "            if file.endswith('.json'):\n",
    "                annots.append(file)\n",
    "        for file in sorted(os.listdir(os.path.join(from_path, folder))):\n",
    "            if file.endswith(('.jpg', '.jpeg', '.png')) and file[:-4] + '.json' in annots:\n",
    "                imgs.append(file)\n",
    "\n",
    "for i in range(len(imgs)):\n",
    "    with open(from_path + annots[i].split('_')[0] + \"/\" + annots[i], 'r') as file:\n",
    "        img = cv2.imread(from_path + annots[i].split('_')[0] + \"/\" + imgs[i], cv2.IMREAD_COLOR)\n",
    "        content = json.load(file)\n",
    "        shapes = content['shapes']\n",
    "        \n",
    "        for shape in shapes:\n",
    "            if shape['shape_type'] == 'rectangle':\n",
    "                box = shape['points']\n",
    "                x1 = int(box[0][0])\n",
    "                y1 = int(box[0][1])\n",
    "                x2 = int(box[1][0])\n",
    "                y2 = int(box[1][1])\n",
    "                fish = imgs[i].split('_')[0]\n",
    "                landmark = shape['label']\n",
    "                cropped_image = img[y1:y2, x1:x2, :]\n",
    "                \n",
    "                if not os.path.isdir(to_path):\n",
    "                    os.makedirs(to_path)\n",
    "                    \n",
    "                filepath = os.path.join(to_path, fish + \"_\" + landmark + imgs[i][imgs[i].find(\"_\"):])\n",
    "                cv2.imwrite(filepath, cropped_image)\n",
    "            "
   ]
  },
  {
   "cell_type": "markdown",
   "metadata": {},
   "source": [
    "# Change filenames"
   ]
  },
  {
   "cell_type": "code",
   "execution_count": 2,
   "metadata": {},
   "outputs": [],
   "source": [
    "import os\n",
    "\n",
    "# This code changes filenames.\n",
    "\n",
    "path = \"/Users/magnuswiik/prosjektoppgave_data/Masteroppgave_data/Helfisk_Deteksjonssett/debug/edit/\"\n",
    "\n",
    "files = sorted(os.listdir(path))\n",
    "\n",
    "for file in files:\n",
    "    oldname = os.path.join(path,file)\n",
    "    newname = os.path.join(path, \"GP010101_\" + file)\n",
    "    os.rename(oldname, newname)"
   ]
  }
 ],
 "metadata": {
  "kernelspec": {
   "display_name": "fisketrening",
   "language": "python",
   "name": "python3"
  },
  "language_info": {
   "codemirror_mode": {
    "name": "ipython",
    "version": 3
   },
   "file_extension": ".py",
   "mimetype": "text/x-python",
   "name": "python",
   "nbconvert_exporter": "python",
   "pygments_lexer": "ipython3",
   "version": "3.9.-1"
  }
 },
 "nbformat": 4,
 "nbformat_minor": 2
}
