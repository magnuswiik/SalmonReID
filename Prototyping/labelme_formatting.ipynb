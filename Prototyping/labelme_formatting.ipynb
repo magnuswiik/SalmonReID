{
 "cells": [
  {
   "cell_type": "markdown",
   "metadata": {},
   "source": [
    "# Transform predictions from Faster R-CNN to LabelMe format - For AI-Assisted labelling"
   ]
  },
  {
   "cell_type": "code",
   "execution_count": 3,
   "metadata": {},
   "outputs": [],
   "source": [
    "import torchvision\n",
    "from torchvision.models.detection.faster_rcnn import FastRCNNPredictor, FasterRCNN_ResNet50_FPN_Weights\n",
    "\n",
    "def get_detection_model(num_classes, weights=FasterRCNN_ResNet50_FPN_Weights):\n",
    "    # load a model pre-trained on COCO\n",
    "    model = torchvision.models.detection.fasterrcnn_resnet50_fpn(weights=weights)\n",
    "\n",
    "    # get number of input features for the classifier\n",
    "    in_features = model.roi_heads.box_predictor.cls_score.in_features\n",
    "    # replace the pre-trained head with a new one\n",
    "    model.roi_heads.box_predictor = FastRCNNPredictor(in_features, num_classes)\n",
    "    \n",
    "    return model"
   ]
  },
  {
   "cell_type": "code",
   "execution_count": 4,
   "metadata": {},
   "outputs": [],
   "source": [
    "# Create LabelMe dictionary\n",
    "\n",
    "labelme_dict = {'version':'5.3.1',\n",
    "                'flags':{},\n",
    "                'shapes':[],\n",
    "                'imagePath':'',\n",
    "                'imageData': None,\n",
    "                'imageHeight':1440,\n",
    "                'imageWidth':1920\n",
    "                }"
   ]
  },
  {
   "cell_type": "code",
   "execution_count": 8,
   "metadata": {},
   "outputs": [
    {
     "name": "stderr",
     "output_type": "stream",
     "text": [
      "/Users/magnuswiik/miniconda3/envs/fisketrening/lib/python3.9/site-packages/torchvision/models/_utils.py:223: UserWarning: Arguments other than a weight enum or `None` for 'weights' are deprecated since 0.13 and may be removed in the future. The current behavior is equivalent to passing `weights=FasterRCNN_ResNet50_FPN_Weights.COCO_V1`. You can also use `weights=FasterRCNN_ResNet50_FPN_Weights.DEFAULT` to get the most up-to-date weights.\n",
      "  warnings.warn(msg)\n"
     ]
    }
   ],
   "source": [
    "# Make detection predictions and format predictions into LabelMe format\n",
    "import torch\n",
    "import matplotlib.pyplot as plt\n",
    "from torchvision.utils import draw_bounding_boxes\n",
    "from torchvision.io import read_image\n",
    "import os, json\n",
    "\n",
    "device = torch.device('cuda') if torch.cuda.is_available() else torch.device('cpu')\n",
    "\n",
    "model_weights = \"/fasterrcnn_resnet50_fpn/Christian_5epochs/model_weights1_Masteroppgave.pt\" # Husk å bytte til riktige vekter!\n",
    "PATH = \"/Users/magnuswiik/Documents/NTNU/5.klasse/prosjektoppgave/FishID/models/\" + model_weights\n",
    "\n",
    "target_folder = '/Users/magnuswiik/prosjektoppgave_data/Masteroppgave_data/AI_Assisted_Deteksjonsset_Helfisk/'\n",
    "\n",
    "imgs = list(sorted(os.listdir(target_folder)))\n",
    "\n",
    "num_classes = 2\n",
    "\n",
    "model = get_detection_model(num_classes)\n",
    "model.to(device)\n",
    "\n",
    "model.load_state_dict(torch.load(PATH))\n",
    "model.eval()\n",
    "\n",
    "for img in imgs:\n",
    "    if \"DS\" not in img:\n",
    "        filename= img[:-3] + 'json'\n",
    "        with open(target_folder + filename, 'w') as file:\n",
    "            image = read_image(target_folder + img)\n",
    "            image = image.float() / 255.0\n",
    "\n",
    "            with torch.no_grad():\n",
    "                # convert RGBA -> RGB and move to device\n",
    "                x = image[:3, ...].to(device)\n",
    "                predictions = model([x, ])\n",
    "                pred = predictions[0]\n",
    "\n",
    "            image = (255.0 * (image - image.min()) / (image.max() - image.min())).to(torch.uint8)\n",
    "            image = image[:3, ...]\n",
    "            pred_labels = [f\"salmon: {score:.3f}\" for label, score in zip(pred[\"labels\"], pred[\"scores\"])]\n",
    "            pred_boxes = pred[\"boxes\"].long().tolist()\n",
    "            output = labelme_dict.copy()\n",
    "            \n",
    "            output['imagePath'] = img\n",
    "            shapes_list = []\n",
    "            \n",
    "            for i in range(len(pred_labels)):\n",
    "                shape_dict = {\"label\": \"Salmon\", \"points\": [], 'group_id': None, 'description': '', 'shape_type': 'rectangle', 'flags': {}}\n",
    "                shapes_list.append(shape_dict)\n",
    "\n",
    "            for i in range(len(pred_boxes)):\n",
    "                box = pred_boxes[i]\n",
    "                shape_dict = shapes_list[i]\n",
    "                shape_dict['points'] = [box[:2], box[2:]]\n",
    "            \n",
    "            output['shapes'] = shapes_list\n",
    "            json.dump(output, file, indent=2)\n",
    "    \n",
    "\n",
    "\n",
    "\n",
    "#output_image = draw_bounding_boxes(image, pred_boxes, pred_labels, colors=\"black\", width=3, font=\"/System/Library/Fonts/Helvetica.ttc\", font_size=30)\n",
    "\n",
    "#print(pred[\"scores\"])\n",
    "\n",
    "#plt.figure(figsize=(12, 12))\n",
    "#plt.imshow(output_image.permute(1, 2, 0))"
   ]
  }
 ],
 "metadata": {
  "kernelspec": {
   "display_name": "fisketrening",
   "language": "python",
   "name": "python3"
  },
  "language_info": {
   "codemirror_mode": {
    "name": "ipython",
    "version": 3
   },
   "file_extension": ".py",
   "mimetype": "text/x-python",
   "name": "python",
   "nbconvert_exporter": "python",
   "pygments_lexer": "ipython3",
   "version": "3.9.18"
  }
 },
 "nbformat": 4,
 "nbformat_minor": 2
}
